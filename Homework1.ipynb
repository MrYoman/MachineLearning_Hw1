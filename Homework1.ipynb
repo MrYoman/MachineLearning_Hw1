{
 "cells": [
  {
   "cell_type": "markdown",
   "metadata": {},
   "source": [
    "## Numpy"
   ]
  },
  {
   "cell_type": "markdown",
   "metadata": {},
   "source": [
    "1."
   ]
  },
  {
   "cell_type": "code",
   "execution_count": 1,
   "metadata": {
    "collapsed": false
   },
   "outputs": [
    {
     "name": "stdout",
     "output_type": "stream",
     "text": [
      "Populating the interactive namespace from numpy and matplotlib\n",
      "[21  2 10]\n"
     ]
    }
   ],
   "source": [
    "%pylab inline\n",
    "#import exceptions\n",
    "\n",
    "import numpy as np\n",
    "\n",
    "def construct_array(X, i, j):\n",
    "    return X[i, j]\n",
    "\n",
    "X = np.array([[0, 1, 2], [10, 11, 12], [20, 21, 22]])\n",
    "I = [2, 0, 1]\n",
    "J = [1, 2, 0]\n",
    "\n",
    "print(construct_array(X, I, J))"
   ]
  },
  {
   "cell_type": "markdown",
   "metadata": {},
   "source": [
    "2."
   ]
  },
  {
   "cell_type": "code",
   "execution_count": 7,
   "metadata": {
    "collapsed": false
   },
   "outputs": [
    {
     "name": "stdout",
     "output_type": "stream",
     "text": [
      "None\n",
      "242\n",
      "100\n"
     ]
    }
   ],
   "source": [
    "def nonzero_product(X):\n",
    "    diag = np.diag(X)\n",
    "    \n",
    "    if np.count_nonzero(diag) == 0:\n",
    "        return \"None\"\n",
    "    return np.prod(diag[nonzero(diag)])\n",
    "    \n",
    "X = np.array([[0, 1, 2], [10, 0, 12], [20, 21, 0], [30, 31, 32]])\n",
    "print(nonzero_product(X))\n",
    "X = np.array([[0, 1, 2], [10, 11, 12], [20, 21, 22], [30, 31, 32]])\n",
    "print(nonzero_product(X))\n",
    "X = np.array([[50, 1, 2, 3], [10, 0, 12, 13], [20, 21, 2, 23]])\n",
    "print(nonzero_product(X))"
   ]
  },
  {
   "cell_type": "markdown",
   "metadata": {},
   "source": [
    "3."
   ]
  },
  {
   "cell_type": "code",
   "execution_count": 30,
   "metadata": {
    "collapsed": false
   },
   "outputs": [
    {
     "name": "stdout",
     "output_type": "stream",
     "text": [
      "8\n"
     ]
    }
   ],
   "source": [
    "def max_element(arr):\n",
    "    if np.count_nonzero(arr) == len(arr):\n",
    "        return \"None\"\n",
    "    zeroIndex = np.nonzero(arr == 0)[0]\n",
    "    indexes = zeroIndex[np.nonzero(zeroIndex < len(arr) - 1)[0]] + 1\n",
    "    return max(arr[indexes])\n",
    "Arr = np.array([1, 0, 0, 2, 0, 8, 9, 0, 7, 0])\n",
    "print(max_element(Arr))"
   ]
  },
  {
   "cell_type": "markdown",
   "metadata": {},
   "source": [
    "4."
   ]
  },
  {
   "cell_type": "code",
   "execution_count": 41,
   "metadata": {
    "collapsed": false
   },
   "outputs": [
    {
     "name": "stdout",
     "output_type": "stream",
     "text": [
      "2\n"
     ]
    }
   ],
   "source": [
    "def nearest_value(X, v):\n",
    "    Y = np.absolute(X - v)\n",
    "    q = np.argmin(Y)\n",
    "    return X[q]\n",
    "Arr = np.array([1, 0, 0, 2, 0, 8, 9, 0, 7, 0])\n",
    "print(nearest_value(Arr, 1.500001))"
   ]
  },
  {
   "cell_type": "markdown",
   "metadata": {},
   "source": [
    "5."
   ]
  },
  {
   "cell_type": "code",
   "execution_count": 58,
   "metadata": {
    "collapsed": false
   },
   "outputs": [
    {
     "name": "stdout",
     "output_type": "stream",
     "text": [
      "Test on concrete matrix:\n",
      "[[-1.161895   -0.80152148 -0.64890145]\n",
      " [-0.38729833 -0.8669518   0.03415271]\n",
      " [ 0.38729833  0.50708501 -0.78551228]\n",
      " [ 1.161895    1.16138826  1.40026103]]\n",
      "Test on random matrix:\n",
      "[[4 9 3 0 7]\n",
      " [7 1 9 9 0]\n",
      " [2 8 4 1 3]]\n",
      "[[-0.13245324  0.6882472  -0.72586619 -0.67573738  1.0440738 ]\n",
      " [ 1.05962589 -1.14707867  1.14064686  1.14875354 -0.949158  ]\n",
      " [-0.92717265  0.45883147 -0.41478068 -0.47301616 -0.0949158 ]]\n"
     ]
    }
   ],
   "source": [
    "def scale(X):\n",
    "    av = np.mean(X, axis = 0)\n",
    "    n = np.shape(X)[0]\n",
    "    if n == 0:\n",
    "        raise ZeroDivisionError\n",
    "    s = sqrt(n * np.var(X, axis = 0) / (n - 1))\n",
    "    if 0 in s:\n",
    "        raise ZeroDivisionError\n",
    "    return (X - av) / s\n",
    "\n",
    "# Test on concrete matrix\n",
    "X = np.array([[0, 1, 2], [10, 0, 12], [20, 21, 0], [30, 31, 32]])\n",
    "print(\"Test on concrete matrix:\")\n",
    "print(scale(X))\n",
    "\n",
    "# Test on random matrix\n",
    "randX = np.random.randint(10, size = (3, 5))\n",
    "print(\"Test on random matrix:\")\n",
    "print(randX)\n",
    "print(scale(randX))"
   ]
  },
  {
   "cell_type": "markdown",
   "metadata": {},
   "source": [
    "6."
   ]
  },
  {
   "cell_type": "code",
   "execution_count": 68,
   "metadata": {
    "collapsed": false,
    "scrolled": false
   },
   "outputs": [
    {
     "name": "stdout",
     "output_type": "stream",
     "text": [
      "Test on random matrix:\n",
      "[[ 1.17282874  0.76321345  0.92474069]\n",
      " [ 0.89587048  1.09334566  0.74030189]\n",
      " [ 0.78223141  0.91636776  0.94237311]]\n"
     ]
    },
    {
     "data": {
      "text/plain": [
       "(0.17868578414338304,\n",
       " 3.208547512106033,\n",
       " 0.74030188749671377,\n",
       " 1.1728287412733001,\n",
       " 2.7746866180138761,\n",
       " (array([ 2.74722516+0.j       ,  0.23066117+0.1088012j,\n",
       "          0.23066117-0.1088012j]),\n",
       "  array([[-0.60336585+0.j        ,  0.67711809+0.j        ,  0.67711809-0.j        ],\n",
       "         [-0.57443038+0.j        , -0.23565816-0.33619272j,\n",
       "          -0.23565816+0.33619272j],\n",
       "         [-0.55315404+0.j        , -0.49538344+0.35713587j,\n",
       "          -0.49538344-0.35713587j]])),\n",
       " array([[ 1.96966295,  0.7172967 , -2.49629743],\n",
       "        [-1.48392814,  2.13716529, -0.22273426],\n",
       "        [-0.19197101, -2.67359219,  3.34982898]]))"
      ]
     },
     "execution_count": 68,
     "metadata": {},
     "output_type": "execute_result"
    }
   ],
   "source": [
    "def get_stats(X):\n",
    "    return (np.linalg.det(X), \n",
    "            np.trace(X), \n",
    "            np.min(X), \n",
    "            np.max(X), \n",
    "            np.linalg.norm(X, ord=\"fro\"), \n",
    "            np.linalg.eig(X), \n",
    "            np.linalg.inv(X))\n",
    "\n",
    "# Test on random matrix\n",
    "randX = np.random.normal(loc = 1, scale = 0.2, size = (3, 3))\n",
    "print(\"Test on random matrix:\")\n",
    "print(randX)\n",
    "get_stats(randX)"
   ]
  },
  {
   "cell_type": "markdown",
   "metadata": {},
   "source": [
    "7."
   ]
  },
  {
   "cell_type": "code",
   "execution_count": 77,
   "metadata": {
    "collapsed": false
   },
   "outputs": [
    {
     "name": "stdout",
     "output_type": "stream",
     "text": [
      "3.41167245426 3.41167245426\n"
     ]
    }
   ],
   "source": [
    "M = np.zeros(100)\n",
    "for i in range(0, 100):\n",
    "    X = np.random.normal(size = (10, 10))\n",
    "    Y = np.random.normal(size = (10, 10))\n",
    "    M[i] = np.max(X * Y)\n",
    "aver = np.mean(M)\n",
    "quantile = np.percentile(aver, 0.95)\n",
    "print(aver, quantile)"
   ]
  },
  {
   "cell_type": "markdown",
   "metadata": {},
   "source": [
    "## Pandas"
   ]
  },
  {
   "cell_type": "markdown",
   "metadata": {},
   "source": [
    "1."
   ]
  },
  {
   "cell_type": "code",
   "execution_count": 78,
   "metadata": {
    "collapsed": true
   },
   "outputs": [],
   "source": [
    "import pandas as pd"
   ]
  },
  {
   "cell_type": "code",
   "execution_count": 280,
   "metadata": {
    "collapsed": false
   },
   "outputs": [],
   "source": [
    "df = pd.read_csv(\"titanic.csv\")"
   ]
  },
  {
   "cell_type": "code",
   "execution_count": 190,
   "metadata": {
    "collapsed": false
   },
   "outputs": [
    {
     "name": "stdout",
     "output_type": "stream",
     "text": [
      "Men:  577\n",
      "Women:  314\n"
     ]
    },
    {
     "data": {
      "text/plain": [
       "<matplotlib.text.Text at 0x27f37630>"
      ]
     },
     "execution_count": 190,
     "metadata": {},
     "output_type": "execute_result"
    },
    {
     "data": {
      "image/png": "[encoded data removed]",
      "text/plain": [
       "<matplotlib.figure.Figure at 0x27e84c88>"
      ]
     },
     "metadata": {},
     "output_type": "display_data"
    }
   ],
   "source": [
    "# Sex distribution\n",
    "\n",
    "print(\"Men: \", df[df.Sex == \"male\"]['PassengerId'].count())\n",
    "print(\"Women: \", df[df.Sex == \"female\"]['PassengerId'].count())\n",
    "df['Sex'].value_counts().plot(kind='barh', color=\"blue\", alpha=.5)\n",
    "title(\"Distribution of men and women\")\n",
    "xlabel(\"Count\")\n",
    "ylabel(\"Sex\")"
   ]
  },
  {
   "cell_type": "code",
   "execution_count": 89,
   "metadata": {
    "collapsed": false
   },
   "outputs": [
    {
     "data": {
      "text/plain": [
       "<matplotlib.text.Text at 0x63e1ba8>"
      ]
     },
     "execution_count": 89,
     "metadata": {},
     "output_type": "execute_result"
    },
    {
     "data": {
      "image/png": "[encoded data removed]",
      "text/plain": [
       "<matplotlib.figure.Figure at 0x8d95908>"
      ]
     },
     "metadata": {},
     "output_type": "display_data"
    }
   ],
   "source": [
    "# Count of passengers\n",
    "\n",
    "df['Pclass'].value_counts().plot(kind=\"barh\", color=\"blue\", alpha=.5)\n",
    "title(\"Passengers in classes\")\n",
    "xlabel(\"Count\")\n",
    "ylabel(\"Class number\")"
   ]
  },
  {
   "cell_type": "code",
   "execution_count": 93,
   "metadata": {
    "collapsed": false
   },
   "outputs": [
    {
     "name": "stdout",
     "output_type": "stream",
     "text": [
      "Average:  29.6991176471\n",
      "Min:  0.42\n",
      "Max:  80.0\n"
     ]
    }
   ],
   "source": [
    "# People's age\n",
    "\n",
    "ages = df['Age'][df['Age'].notnull()]\n",
    "print(\"Average: \", np.average(ages))\n",
    "print(\"Min: \", np.min(ages))\n",
    "print(\"Max: \", np.max(ages))"
   ]
  },
  {
   "cell_type": "code",
   "execution_count": 192,
   "metadata": {
    "collapsed": false
   },
   "outputs": [
    {
     "name": "stdout",
     "output_type": "stream",
     "text": [
      "0    549\n",
      "1    342\n",
      "Name: Survived, dtype: int64\n"
     ]
    },
    {
     "data": {
      "text/plain": [
       "<matplotlib.text.Text at 0x27cf3048>"
      ]
     },
     "execution_count": 192,
     "metadata": {},
     "output_type": "execute_result"
    },
    {
     "data": {
      "image/png": "[encoded data removed]",
      "text/plain": [
       "<matplotlib.figure.Figure at 0x27cd8dd8>"
      ]
     },
     "metadata": {},
     "output_type": "display_data"
    }
   ],
   "source": [
    "# Survivors\n",
    "\n",
    "# Survivor count\n",
    "print(df['Survived'].value_counts())\n",
    "df['Survived'].value_counts().plot(kind=\"barh\", color=\"blue\", alpha=.5)\n",
    "title(\"Survivors count\")\n",
    "xlabel(\"Count\")\n",
    "ylabel(\"Survive flag: 1/0\")"
   ]
  },
  {
   "cell_type": "code",
   "execution_count": 177,
   "metadata": {
    "collapsed": false
   },
   "outputs": [
    {
     "name": "stdout",
     "output_type": "stream",
     "text": [
      "Sex     Survived\n",
      "female  1           233\n",
      "        0            81\n",
      "male    0           468\n",
      "        1           109\n",
      "dtype: int64\n"
     ]
    },
    {
     "data": {
      "text/plain": [
       "<matplotlib.text.Text at 0x23c32da0>"
      ]
     },
     "execution_count": 177,
     "metadata": {},
     "output_type": "execute_result"
    },
    {
     "data": {
      "image/png": "[encoded data removed]",
      "text/plain": [
       "<matplotlib.figure.Figure at 0x23beeb38>"
      ]
     },
     "metadata": {},
     "output_type": "display_data"
    }
   ],
   "source": [
    "# Survivor sex\n",
    "r = df[['Survived','Sex']][df['Survived'] == 1]\n",
    "print(df.groupby([\"Sex\"])[\"Survived\"].value_counts())\n",
    "r.groupby([\"Sex\"])[\"Survived\"].value_counts().plot(kind=\"pie\", figsize = (5, 5))\n",
    "title(\"Survivors sex\")\n",
    "ylabel(\"Count\")"
   ]
  },
  {
   "cell_type": "markdown",
   "metadata": {},
   "source": []
  },
  {
   "cell_type": "markdown",
   "metadata": {},
   "source": [
    "2."
   ]
  },
  {
   "cell_type": "code",
   "execution_count": 211,
   "metadata": {
    "collapsed": false
   },
   "outputs": [
    {
     "name": "stdout",
     "output_type": "stream",
     "text": [
      "Men survivability:  18.8908145581 %\n",
      "Women survivability:  74.2038216561 %\n"
     ]
    }
   ],
   "source": [
    "# Who has more HP, men or women?\n",
    "\n",
    "men = df[df[\"Sex\"] == \"male\"]\n",
    "women = df[df[\"Sex\"] == \"female\"]\n",
    "\n",
    "menCount = men[\"PassengerId\"].count()\n",
    "womenCount = women[\"PassengerId\"].count()\n",
    "\n",
    "survivedMen = men[men[\"Survived\"] == 1][\"PassengerId\"].count()\n",
    "survivedWomen = women[women[\"Survived\"] == 1][\"PassengerId\"].count()\n",
    "\n",
    "print(\"Men survivability: \", survivedMen / menCount * 100, \"%\")\n",
    "print(\"Women survivability: \", survivedWomen / womenCount * 100, \"%\")"
   ]
  },
  {
   "cell_type": "code",
   "execution_count": 210,
   "metadata": {
    "collapsed": false
   },
   "outputs": [
    {
     "name": "stdout",
     "output_type": "stream",
     "text": [
      "Pclass  Survived\n",
      "1       1           136\n",
      "        0            80\n",
      "2       0            97\n",
      "        1            87\n",
      "3       0           372\n",
      "        1           119\n",
      "dtype: int64\n"
     ]
    }
   ],
   "source": [
    "# Class with better defense\n",
    "\n",
    "print(df.groupby([\"Pclass\"])[\"Survived\"].value_counts())"
   ]
  },
  {
   "cell_type": "code",
   "execution_count": 224,
   "metadata": {
    "collapsed": false
   },
   "outputs": [
    {
     "name": "stdout",
     "output_type": "stream",
     "text": [
      "Young (age <  29.69911764705882 ) survivsbility:  40.625 %\n",
      "Old (age >  29.69911764705882 ) survivability:  40.6060606061 %\n"
     ]
    }
   ],
   "source": [
    "# Young VS old\n",
    "\n",
    "midAge = np.mean(df[\"Age\"][df['Age'] != NaN])\n",
    "\n",
    "young = df[df[\"Age\"] < midAge]\n",
    "old = df[df[\"Age\"] > midAge]\n",
    "\n",
    "youngCount = young[\"PassengerId\"].count()\n",
    "oldCount = old[\"PassengerId\"].count()\n",
    "\n",
    "youngSurvived = young[young[\"Survived\"] == 1][\"PassengerId\"].count()\n",
    "oldSurvived = old[old[\"Survived\"] == 1][\"PassengerId\"].count()\n",
    "\n",
    "print(\"Young (age < \", midAge, \") survivsbility: \", youngSurvived / youngCount * 100, \"%\")\n",
    "print(\"Old (age > \", midAge, \") survivability: \", oldSurvived / oldCount * 100, \"%\")"
   ]
  },
  {
   "cell_type": "markdown",
   "metadata": {},
   "source": [
    "3."
   ]
  },
  {
   "cell_type": "markdown",
   "metadata": {},
   "source": [
    "Найдем число пропущеных признаков:"
   ]
  },
  {
   "cell_type": "code",
   "execution_count": 226,
   "metadata": {
    "collapsed": false
   },
   "outputs": [
    {
     "name": "stdout",
     "output_type": "stream",
     "text": [
      "PassengerId      0\n",
      "Survived         0\n",
      "Pclass           0\n",
      "Name             0\n",
      "Sex              0\n",
      "Age            177\n",
      "SibSp            0\n",
      "Parch            0\n",
      "Ticket           0\n",
      "Fare             0\n",
      "Cabin          687\n",
      "Embarked         2\n",
      "dtype: int64\n"
     ]
    }
   ],
   "source": [
    "maxCount = df[\"PassengerId\"].count()\n",
    "print(maxCount - df.count())"
   ]
  },
  {
   "cell_type": "markdown",
   "metadata": {},
   "source": [
    "Как отсюда видно, найбольше пропусков наблюдаеться в Cabin (687).\n",
    "Если же посмотеть, например, на Age, то здесь не так много пропусков.\n",
    "Можно предложить вычислить среднее значение возраста Age по имеющимся данным и записать его на место пропусков.\n",
    "Недостатком этого метода может быть следующий: если пропущенные значения значительно отличаються от среднего, которое мы хотим записать на их место, то мы получим значительное отклонение от реального значения.\n",
    "Но поскольку пропущенных значений здесь не так много, то среднее квадратичное отклонение будет крайне мало с хорошей вероятностью."
   ]
  },
  {
   "cell_type": "code",
   "execution_count": 251,
   "metadata": {
    "collapsed": false
   },
   "outputs": [
    {
     "name": "stderr",
     "output_type": "stream",
     "text": [
      "C:\\Anaconda3\\lib\\site-packages\\ipykernel\\__main__.py:4: SettingWithCopyWarning: \n",
      "A value is trying to be set on a copy of a slice from a DataFrame\n",
      "\n",
      "See the caveats in the documentation: http://pandas.pydata.org/pandas-docs/stable/indexing.html#indexing-view-versus-copy\n"
     ]
    }
   ],
   "source": [
    "midAge = np.mean(np.array(df.Age[df.Age != NaN]))\n",
    "age = df.Age\n",
    "\n",
    "age[df['Age'] == NaN] = midAge"
   ]
  },
  {
   "cell_type": "markdown",
   "metadata": {},
   "source": [
    "Рассмотрим теперь Embarked.\n",
    "Как видно, здесь всего два пропуска, что очень мало в сравнении с общим количеством записей.\n",
    "Это логически наталкивает на мысль о том, чтобы \"выбросить\" строки, где пропущено поле Embarked.\n",
    "Но если бы мы выбрасывали строки, где пропущено поле Cabine (а таких всего 687), то мы бы выбросили слишком много, что плохо.\n",
    "В этом и заключаеться недостаток метода: его можна применять только тогда, когда данных, которые мы \"выбрасываем\" мало в сравнений с их общим количеством."
   ]
  },
  {
   "cell_type": "code",
   "execution_count": 250,
   "metadata": {
    "collapsed": false
   },
   "outputs": [
    {
     "name": "stdout",
     "output_type": "stream",
     "text": [
      "889\n"
     ]
    }
   ],
   "source": [
    "dfWithoutNullEmbarked = df[df[\"Embarked\"].notnull()]\n",
    "print(dfWithoutNullEmbarked[\"PassengerId\"].count())"
   ]
  },
  {
   "cell_type": "markdown",
   "metadata": {},
   "source": [
    "## Matplotlib"
   ]
  },
  {
   "cell_type": "code",
   "execution_count": 253,
   "metadata": {
    "collapsed": true
   },
   "outputs": [],
   "source": [
    "import matplotlib"
   ]
  },
  {
   "cell_type": "markdown",
   "metadata": {},
   "source": [
    "1."
   ]
  },
  {
   "cell_type": "code",
   "execution_count": 254,
   "metadata": {
    "collapsed": true
   },
   "outputs": [],
   "source": [
    "def gen_uncertain_data():\n",
    "    x = np.linspace(0, 30, 100)\n",
    "    y = np.sin(x/6*np.pi) + np.random.normal(0, 0.02, size=x.shape)\n",
    "    error = np.random.normal(0.1, 0.02, size=y.shape)\n",
    "    return x, y, error"
   ]
  },
  {
   "cell_type": "code",
   "execution_count": 283,
   "metadata": {
    "collapsed": false
   },
   "outputs": [
    {
     "data": {
      "text/plain": [
       "<matplotlib.text.Text at 0x2fa0a518>"
      ]
     },
     "execution_count": 283,
     "metadata": {},
     "output_type": "execute_result"
    },
    {
     "data": {
      "image/png": "[encoded data removed]",
      "text/plain": [
       "<matplotlib.figure.Figure at 0x2b7aa4e0>"
      ]
     },
     "metadata": {},
     "output_type": "display_data"
    }
   ],
   "source": [
    "x, y, error = gen_uncertain_data()\n",
    "plt.figure(figsize = (20, 5))\n",
    "\n",
    "plt.plot(x, y, color = \"blue\")\n",
    "plt.fill_between(x, y - error, y + error, facecolor = \"green\")\n",
    "plt.legend([\"y(x)\", \"error\"], loc=\"lower right\")\n",
    "plt.xlabel(\"x\")\n",
    "plt.ylabel(\"y(x)\")"
   ]
  },
  {
   "cell_type": "markdown",
   "metadata": {},
   "source": [
    "2."
   ]
  },
  {
   "cell_type": "code",
   "execution_count": 282,
   "metadata": {
    "collapsed": false
   },
   "outputs": [
    {
     "data": {
      "text/plain": [
       "<matplotlib.text.Text at 0x300ab5c0>"
      ]
     },
     "execution_count": 282,
     "metadata": {},
     "output_type": "execute_result"
    },
    {
     "data": {
      "image/png": "[encoded data removed]",
      "text/plain": [
       "<matplotlib.figure.Figure at 0x2db596d8>"
      ]
     },
     "metadata": {},
     "output_type": "display_data"
    }
   ],
   "source": [
    "ageNotNull = df[df.Age.notnull()]\n",
    "\n",
    "firstClass = ageNotNull[ageNotNull[\"Pclass\"] == 1][\"Age\"]\n",
    "secondClass = ageNotNull[ageNotNull[\"Pclass\"] == 2][\"Age\"]\n",
    "thirdClass = ageNotNull[ageNotNull[\"Pclass\"] == 3][\"Age\"]\n",
    "\n",
    "figsize(15, 10)\n",
    "\n",
    "f, (ax1, ax2, ax3) = subplots(3, sharex = True, sharey = True)\n",
    "ax1.hist(firstClass, color = \"green\", normed = 1)\n",
    "ax1.set_title('First class')\n",
    "ax1.set_xlabel(\"Age\")\n",
    "ax1.set_ylabel(\"~ Count\")\n",
    "\n",
    "ax2.hist(secondClass, color = \"yellow\", normed = 1)\n",
    "ax2.set_title('Second class')\n",
    "ax2.set_xlabel(\"Age\")\n",
    "ax2.set_ylabel(\"~ Count\")\n",
    "\n",
    "ax3.hist(thirdClass, color = \"red\", normed = 1)\n",
    "ax3.set_title('Third class')\n",
    "ax3.set_xlabel(\"Age\")\n",
    "ax3.set_ylabel(\"~ Count\")"
   ]
  },
  {
   "cell_type": "code",
   "execution_count": null,
   "metadata": {
    "collapsed": true
   },
   "outputs": [],
   "source": []
  }
 ],
 "metadata": {
  "kernelspec": {
   "display_name": "Python 3",
   "language": "python",
   "name": "python3"
  },
  "language_info": {
   "codemirror_mode": {
    "name": "ipython",
    "version": 3
   },
   "file_extension": ".py",
   "mimetype": "text/x-python",
   "name": "python",
   "nbconvert_exporter": "python",
   "pygments_lexer": "ipython3",
   "version": "3.5.1"
  }
 },
 "nbformat": 4,
 "nbformat_minor": 0
}
